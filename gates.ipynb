{
 "cells": [
  {
   "cell_type": "code",
   "execution_count": 8,
   "id": "initial_id",
   "metadata": {
    "collapsed": true,
    "ExecuteTime": {
     "end_time": "2024-04-14T13:40:50.033284674Z",
     "start_time": "2024-04-14T13:40:46.747449931Z"
    }
   },
   "outputs": [],
   "source": [
    "#Setup\n",
    "from dotenv import load_dotenv\n",
    "import os\n",
    "from qiskit_ibm_provider import IBMProvider\n",
    "from qiskit import QuantumCircuit\n",
    "from qiskit_aer import AerSimulator\n",
    "from qiskit.visualization import plot_histogram\n",
    "\n",
    "load_dotenv()\n",
    "key = os.getenv(\"IMBQ_KEY\")\n",
    "provider = IBMProvider()"
   ]
  },
  {
   "cell_type": "markdown",
   "source": [
    "Basic notations\n",
    "- vector of a single qubit : $$|a⟩ = v_0|0⟩ + v_1|1⟩ \\Rightarrow  \\begin{bmatrix} v_0 \\\\ v_1 \\\\ \\end{bmatrix}$$\n",
    "- vector for two qubits : $$|\\psi⟩ = v_{00}|00⟩ + v_{01}|01⟩ + v_{10}|10⟩ + v_{11}|11⟩ \\Rightarrow  \\begin{bmatrix} v_{00} \\\\ v_{10} \\\\ v_{01} \\\\ v_{11} \\\\ \\end{bmatrix}$$"
   ],
   "metadata": {
    "collapsed": false
   },
   "id": "431f21fd7aac6477"
  },
  {
   "cell_type": "markdown",
   "source": [
    "Hadamard gate\n",
    "$$\n",
    "h = \\frac{1}{\\sqrt{2}}\n",
    "\\begin{bmatrix} \n",
    "1 & 1 \\\\\n",
    "1 & -1 \\\\\n",
    "\\end{bmatrix}\n",
    "$$\n",
    "$$\n",
    "\\frac{1}{\\sqrt{2}}\n",
    "\\begin{bmatrix} \n",
    "1 & 1 \\\\\n",
    "1 & -1 \\\\\n",
    "\\end{bmatrix}\n",
    "*\n",
    "\\begin{bmatrix} \n",
    "|0⟩ \\\\\n",
    "|1⟩ \\\\\n",
    "\\end{bmatrix}\n",
    "=\n",
    "\\begin{bmatrix} \n",
    "\\frac{|0⟩ + |1⟩}{\\sqrt{2}} \\\\\n",
    "\\frac{|0⟩ - |1⟩}{\\sqrt{2}} \\\\\n",
    "\\end{bmatrix}\n",
    "$$"
   ],
   "metadata": {
    "collapsed": false
   },
   "id": "1618ea1c3fad8e27"
  },
  {
   "cell_type": "code",
   "outputs": [
    {
     "data": {
      "text/plain": "<Figure size 185.453x117.056 with 1 Axes>",
      "image/png": "[encoded data removed]"
     },
     "execution_count": 9,
     "metadata": {},
     "output_type": "execute_result"
    }
   ],
   "source": [
    "# H gate (Hadamard)\n",
    "qc = QuantumCircuit(1)\n",
    "# Apply the Hadamard gate to the fist qubit.\n",
    "# Give to the qubit the same probability to be |0⟩ or |1⟩ (superposition).\n",
    "qc.h(0)\n",
    "\n",
    "qc.draw('mpl')"
   ],
   "metadata": {
    "collapsed": false,
    "ExecuteTime": {
     "end_time": "2024-04-14T13:40:50.082747215Z",
     "start_time": "2024-04-14T13:40:50.074672197Z"
    }
   },
   "id": "b149dab399b24f14",
   "execution_count": 9
  },
  {
   "cell_type": "markdown",
   "source": [
    "Pauli-X gate\n",
    "$$\n",
    "x=\n",
    "\\begin{bmatrix} \n",
    "0 & 1 \\\\\n",
    "1 & 0 \\\\\n",
    "\\end{bmatrix}\n",
    "$$\n",
    "$$\n",
    "\\begin{bmatrix} \n",
    "0 & 1 \\\\\n",
    "1 & 0 \\\\\n",
    "\\end{bmatrix}\n",
    "*\n",
    "\\begin{bmatrix} \n",
    "|0⟩ \\\\\n",
    "|1⟩ \\\\\n",
    "\\end{bmatrix}\n",
    "=\n",
    "\\begin{bmatrix} \n",
    "|1⟩ \\\\\n",
    "|0⟩ \\\\\n",
    "\\end{bmatrix}\n",
    "$$"
   ],
   "metadata": {
    "collapsed": false
   },
   "id": "9415a7690dce0790"
  },
  {
   "cell_type": "code",
   "outputs": [
    {
     "data": {
      "text/plain": "<Figure size 185.453x117.056 with 1 Axes>",
      "image/png": "[encoded data removed]"
     },
     "execution_count": 10,
     "metadata": {},
     "output_type": "execute_result"
    }
   ],
   "source": [
    "# X gate (Pauli-X)\n",
    "qc = QuantumCircuit(1)\n",
    "# Apply the Pauli-X gate to the fist qubit.\n",
    "# The gate is equivalent to a NOT operator. It transforms the |0⟩ in |1⟩ and the |1⟩ in |0⟩.\n",
    "qc.x(0)\n",
    "# launch the measure on each qubit\n",
    "\n",
    "qc.draw('mpl')"
   ],
   "metadata": {
    "collapsed": false,
    "ExecuteTime": {
     "end_time": "2024-04-14T13:40:50.125578184Z",
     "start_time": "2024-04-14T13:40:50.081929219Z"
    }
   },
   "id": "cef6d20cc881d304",
   "execution_count": 10
  },
  {
   "cell_type": "markdown",
   "source": [
    "Controlled-X gate\n",
    "$$\n",
    "Cx=\n",
    "\\begin{bmatrix} \n",
    "1  & 0 & 0 & 0 \\\\ \n",
    "0  & 1 & 0 & 0 \\\\ \n",
    "0  & 0 & 0 & 1 \\\\ \n",
    "0  & 0 & 1 & 0 \\\\ \n",
    "\\end{bmatrix}\n",
    "$$\n",
    "$$\n",
    "\\begin{bmatrix} \n",
    "1  & 0 & 0 & 0 \\\\ \n",
    "0  & 1 & 0 & 0 \\\\ \n",
    "0  & 0 & 0 & 1 \\\\ \n",
    "0  & 0 & 1 & 0 \\\\ \n",
    "\\end{bmatrix}\n",
    "*\n",
    "\\begin{bmatrix} \n",
    "|00⟩ \\\\\n",
    "|01⟩ \\\\\n",
    "|10⟩ \\\\\n",
    "|11⟩ \\\\\n",
    "\\end{bmatrix}\n",
    "=\n",
    "\\begin{bmatrix} \n",
    "|00⟩ \\\\\n",
    "|01⟩ \\\\\n",
    "|11⟩ \\\\\n",
    "|10⟩ \\\\\n",
    "\\end{bmatrix}\n",
    "$$"
   ],
   "metadata": {
    "collapsed": false
   },
   "id": "fffe63682f193c07"
  },
  {
   "cell_type": "code",
   "outputs": [
    {
     "data": {
      "text/plain": "<Figure size 203.683x200.667 with 1 Axes>",
      "image/png": "[encoded data removed]"
     },
     "execution_count": 11,
     "metadata": {},
     "output_type": "execute_result"
    }
   ],
   "source": [
    "# cX gate (controlled-X or Controlled Pauli X)\n",
    "qc = QuantumCircuit(2)\n",
    "# Apply the controlled gate to link the second qubit to the first.\n",
    "# Acts on 2 qubits, and performs the NOT operation on the second qubit only when the first qubit is |1⟩, and otherwise leaves it unchanged. \n",
    "qc.cx(0, 1)\n",
    "# launch the measure on each qubit\n",
    "\n",
    "qc.draw('mpl')"
   ],
   "metadata": {
    "collapsed": false,
    "ExecuteTime": {
     "end_time": "2024-04-14T13:40:50.187572813Z",
     "start_time": "2024-04-14T13:40:50.127630126Z"
    }
   },
   "id": "f3870fe334b6bce",
   "execution_count": 11
  },
  {
   "cell_type": "code",
   "outputs": [
    {
     "data": {
      "text/plain": "<Figure size 329.554x200.667 with 1 Axes>",
      "image/png": "[encoded data removed]"
     },
     "execution_count": 12,
     "metadata": {},
     "output_type": "execute_result"
    }
   ],
   "source": [
    "# measure\n",
    "qc = QuantumCircuit(1)\n",
    "# apply the Hadamard gate to the fist qubit\n",
    "qc.measure_all()\n",
    "# launch the measure on each qubit\n",
    "\n",
    "qc.draw('mpl')"
   ],
   "metadata": {
    "collapsed": false,
    "ExecuteTime": {
     "end_time": "2024-04-14T13:40:50.291823578Z",
     "start_time": "2024-04-14T13:40:50.184501593Z"
    }
   },
   "id": "aef7e0fe388b03ef",
   "execution_count": 12
  }
 ],
 "metadata": {
  "kernelspec": {
   "display_name": "Python 3",
   "language": "python",
   "name": "python3"
  },
  "language_info": {
   "codemirror_mode": {
    "name": "ipython",
    "version": 2
   },
   "file_extension": ".py",
   "mimetype": "text/x-python",
   "name": "python",
   "nbconvert_exporter": "python",
   "pygments_lexer": "ipython2",
   "version": "2.7.6"
  }
 },
 "nbformat": 4,
 "nbformat_minor": 5
}
