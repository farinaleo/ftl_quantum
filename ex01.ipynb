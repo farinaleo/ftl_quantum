{
 "cells": [
  {
   "cell_type": "markdown",
   "source": [
    "Exercise 1 -> print quantum computers / jobs pending / qubits available"
   ],
   "metadata": {
    "collapsed": false
   },
   "id": "7e7ae250c149dadb"
  },
  {
   "cell_type": "code",
   "execution_count": 3,
   "id": "initial_id",
   "metadata": {
    "collapsed": true,
    "ExecuteTime": {
     "end_time": "2024-04-14T10:57:04.795959069Z",
     "start_time": "2024-04-14T10:56:45.965202482Z"
    }
   },
   "outputs": [
    {
     "name": "stdout",
     "output_type": "stream",
     "text": [
      "Simulated quantum computers:\n",
      "\tibmq_qasm_simulator has 0 queues\n",
      "\tsimulator_extended_stabilizer has 0 queues\n",
      "\tsimulator_mps has 0 queues\n",
      "\tsimulator_statevector has 0 queues\n",
      "\tsimulator_stabilizer has 0 queues\n",
      "Real quantum computers:\n",
      "\tibm_osaka has 2 queues with 127 qubits\n",
      "\tibm_brisbane has 1163 queues with 127 qubits\n",
      "\tibm_kyoto has 9 queues with 127 qubits\n"
     ]
    }
   ],
   "source": [
    "from dotenv import load_dotenv\n",
    "import os\n",
    "from qiskit_ibm_provider import IBMProvider\n",
    "\n",
    "\n",
    "load_dotenv()\n",
    "key = os.getenv(\"IMBQ_KEY\")\n",
    "provider = IBMProvider()\n",
    "\n",
    "quantum_computers = provider.backends(simulator=True)\n",
    "print('Simulated quantum computers:')\n",
    "for qc in quantum_computers:\n",
    "    if qc.status().operational:\n",
    "        queues = qc.status().pending_jobs\n",
    "        print(f'\\t{qc.name} has {queues} queues')\n",
    "        \n",
    "quantum_computers = provider.backends(simulator=False)\n",
    "print('Real quantum computers:')\n",
    "for qc in quantum_computers:\n",
    "    if qc.status().operational:\n",
    "        queues = qc.status().pending_jobs\n",
    "        print(f'\\t{qc.name} has {queues} queues with {qc.num_qubits} qubits')"
   ]
  },
  {
   "cell_type": "code",
   "source": [],
   "metadata": {
    "collapsed": false,
    "ExecuteTime": {
     "end_time": "2024-04-14T10:57:04.797930483Z",
     "start_time": "2024-04-14T10:57:04.796088766Z"
    }
   },
   "id": "d7a09e4be553ee5",
   "outputs": [],
   "execution_count": 3
  }
 ],
 "metadata": {
  "kernelspec": {
   "display_name": "Python 3",
   "language": "python",
   "name": "python3"
  },
  "language_info": {
   "codemirror_mode": {
    "name": "ipython",
    "version": 2
   },
   "file_extension": ".py",
   "mimetype": "text/x-python",
   "name": "python",
   "nbconvert_exporter": "python",
   "pygments_lexer": "ipython2",
   "version": "2.7.6"
  }
 },
 "nbformat": 4,
 "nbformat_minor": 5
}
