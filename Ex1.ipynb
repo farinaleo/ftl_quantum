{
 "cells": [
  {
   "cell_type": "markdown",
   "id": "d113ebbd-4e18-4947-9ec8-22709b7f5a48",
   "metadata": {},
   "source": [
    "## TOKEN"
   ]
  },
  {
   "cell_type": "code",
   "execution_count": 10,
   "id": "bc4c4840-506f-4db3-bcc7-e7eb3e3518bc",
   "metadata": {},
   "outputs": [],
   "source": [
    "from dotenv import dotenv_values\n",
    "\n",
    "dotenv_data = dotenv_values('.env')\n",
    "token = dotenv_data.get('IBM_TOKEN')"
   ]
  },
  {
   "cell_type": "code",
   "execution_count": 9,
   "id": "9a4df2db-2616-45e3-b0cd-40f247643337",
   "metadata": {},
   "outputs": [
    {
     "name": "stdout",
     "output_type": "stream",
     "text": [
      "Successfully authenticated with IBM Quantum.\n"
     ]
    }
   ],
   "source": [
    "from qiskit_ibm_provider import IBMProvider\n",
    "\n",
    "try:\n",
    "    provider = IBMProvider(token=token)\n",
    "    print(\"Successfully authenticated with IBM Quantum.\")\n",
    "except Exception as e:\n",
    "    print(\"Error:\", e)\n"
   ]
  },
  {
   "cell_type": "code",
   "execution_count": 6,
   "id": "491b428a-9937-4c0f-a280-9ee22b582d0a",
   "metadata": {},
   "outputs": [
    {
     "name": "stdout",
     "output_type": "stream",
     "text": [
      "Simulated quantum computers:\n",
      "      ibmq_qasm_simulator  has currently  0  jobs in queue\n",
      "      simulator_extended_stabilizer  has currently  0  jobs in queue\n",
      "      simulator_mps  has currently  0  jobs in queue\n",
      "      simulator_statevector  has currently  0  jobs in queue\n",
      "      simulator_stabilizer  has currently  0  jobs in queue\n",
      "\n",
      "\n",
      "Real quantum computers:\n",
      "      ibm_osaka  has currently  4  jobs in queue with  127  qubits\n",
      "      ibm_brisbane  has currently  1162  jobs in queue with  127  qubits\n",
      "      ibm_kyoto  has currently  9  jobs in queue with  127  qubits\n"
     ]
    }
   ],
   "source": [
    "print(\"Simulated quantum computers:\")\n",
    "s_backends = provider.backends(simulator=True)\n",
    "for simulator in s_backends:\n",
    "    status = simulator.status()\n",
    "    print(\"     \", simulator.name, \" has currently \", status.pending_jobs, \" jobs in queue\")\n",
    "\n",
    "print(\"\\n\")\n",
    "\n",
    "print(\"Real quantum computers:\")\n",
    "r_backends = provider.backends(simulator=False)\n",
    "for simulator in r_backends:\n",
    "    status = simulator.status()\n",
    "    print(\"     \", simulator.name, \" has currently \", status.pending_jobs, \" jobs in queue with \", simulator.num_qubits, \" qubits\")"
   ]
  }
 ],
 "metadata": {
  "kernelspec": {
   "display_name": "my-env",
   "language": "python",
   "name": "my-env"
  },
  "language_info": {
   "codemirror_mode": {
    "name": "ipython",
    "version": 3
   },
   "file_extension": ".py",
   "mimetype": "text/x-python",
   "name": "python",
   "nbconvert_exporter": "python",
   "pygments_lexer": "ipython3",
   "version": "3.10.12"
  }
 },
 "nbformat": 4,
 "nbformat_minor": 5
}
