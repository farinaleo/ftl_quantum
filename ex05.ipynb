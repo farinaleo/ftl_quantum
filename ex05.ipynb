{
 "cells": [
  {
   "cell_type": "code",
   "execution_count": 20,
   "id": "initial_id",
   "metadata": {
    "collapsed": true,
    "ExecuteTime": {
     "end_time": "2024-04-14T10:09:21.973100340Z",
     "start_time": "2024-04-14T10:09:19.023116926Z"
    }
   },
   "outputs": [],
   "source": [
    "#Setup\n",
    "from qiskit import QuantumCircuit\n",
    "from dotenv import load_dotenv\n",
    "import os\n",
    "from qiskit_aer import AerSimulator\n",
    "from qiskit_ibm_provider import IBMProvider\n",
    "from qiskit.transpiler.preset_passmanagers import generate_preset_pass_manager\n",
    "from qiskit_ibm_runtime import QiskitRuntimeService\n",
    "from qiskit.visualization import plot_histogram\n",
    "import numpy as np\n",
    "\n",
    "load_dotenv()\n",
    "key = os.getenv(\"IMBQ_KEY\")\n",
    "provider = IBMProvider()"
   ]
  },
  {
   "cell_type": "markdown",
   "source": [
    "Exercise 4 -> Deutsch-Jozsa : Create our first quantum algorithm"
   ],
   "metadata": {
    "collapsed": false
   },
   "id": "64c978ddca5e9c2e"
  },
  {
   "cell_type": "markdown",
   "source": [
    "Select the way to execute the circuit\n",
    "- 'REAL' for a real quantum computer\n",
    "- 'SIMULATED' for a simulated quantum computer\n",
    "- 'LOCAL' for a Aer simulator (local simulated quantum computer)"
   ],
   "metadata": {
    "collapsed": false
   },
   "id": "a3903baf1ae1796c"
  },
  {
   "cell_type": "code",
   "outputs": [],
   "source": [
    "def select_backend(token, backend='REAL'):\n",
    "    backend_computer = None\n",
    "    if backend == 'REAL':\n",
    "        service = QiskitRuntimeService(channel=\"ibm_quantum\", token=token)\n",
    "        backend_computer = service.least_busy(simulator=False, operational=True)\n",
    "    elif backend == 'SIMULATED':\n",
    "        service = QiskitRuntimeService(channel=\"ibm_quantum\", token=token)\n",
    "        backend_computer = service.least_busy(simulator=True, operational=True)\n",
    "    elif backend == 'LOCAL':\n",
    "        backend_computer = AerSimulator()\n",
    "    return backend_computer"
   ],
   "metadata": {
    "collapsed": false,
    "ExecuteTime": {
     "end_time": "2024-04-14T10:09:22.016743520Z",
     "start_time": "2024-04-14T10:09:22.014755045Z"
    }
   },
   "id": "c44bff86b9ff751e",
   "execution_count": 21
  },
  {
   "cell_type": "markdown",
   "source": [
    "make the given circuit (qc) usable on quantum computer (convert gates if it's required)"
   ],
   "metadata": {
    "collapsed": false
   },
   "id": "2f14151bc0bdee26"
  },
  {
   "cell_type": "code",
   "outputs": [],
   "source": [
    "def optimize_circuit(qc, backend, op_level=0):\n",
    "    pm = generate_preset_pass_manager(backend=backend, optimization_level=op_level)\n",
    "    return pm.run(qc)"
   ],
   "metadata": {
    "collapsed": false,
    "ExecuteTime": {
     "end_time": "2024-04-14T10:09:22.017184509Z",
     "start_time": "2024-04-14T10:09:22.014943438Z"
    }
   },
   "id": "df1f6387585a907e",
   "execution_count": 22
  },
  {
   "cell_type": "markdown",
   "source": [
    "Balanced -> is an oracle type that can modify each qubit given in params"
   ],
   "metadata": {
    "collapsed": false
   },
   "id": "ca46831a0751546b"
  },
  {
   "cell_type": "code",
   "outputs": [],
   "source": [
    "def balanced(nb_qbit=4): # code from subject creator\n",
    "    qc = QuantumCircuit(nb_qbit, name='Balanced')\n",
    "    b = np.random.randint(1,2**nb_qbit-1)\n",
    "    b_str = format(b, '0'+str(nb_qbit-1)+'b')\n",
    "    for qubit in range(len(b_str)):\n",
    "        if b_str[qubit] == '1':\n",
    "            qc.x(qubit)\n",
    "\n",
    "    for qubit in range(nb_qbit-1):\n",
    "        qc.cx(qubit, nb_qbit-1)\n",
    "    for qubit in range(len(b_str)):\n",
    "        if b_str[qubit] == '1':\n",
    "            qc.x(qubit)\n",
    "    \n",
    "    return qc"
   ],
   "metadata": {
    "collapsed": false,
    "ExecuteTime": {
     "end_time": "2024-04-14T10:09:22.017466010Z",
     "start_time": "2024-04-14T10:09:22.015076335Z"
    }
   },
   "id": "9bf4c3f3dc2fb569",
   "execution_count": 23
  },
  {
   "cell_type": "markdown",
   "source": [
    "Constant -> is an oracle type that only modify the last qubit given in param"
   ],
   "metadata": {
    "collapsed": false
   },
   "id": "3aa404bb9ab1f7ce"
  },
  {
   "cell_type": "code",
   "outputs": [],
   "source": [
    "def constant(nb_qbit=4): # code from subject creator\n",
    "    qc = QuantumCircuit(nb_qbit, name='Constant')\n",
    "    if np.random.randint(2) == 1:\n",
    "        qc.x(nb_qbit-1)\n",
    "    \n",
    "    return qc"
   ],
   "metadata": {
    "collapsed": false,
    "ExecuteTime": {
     "end_time": "2024-04-14T10:09:22.017736555Z",
     "start_time": "2024-04-14T10:09:22.015173834Z"
    }
   },
   "id": "8b1bbfd1c8b883ac",
   "execution_count": 24
  },
  {
   "cell_type": "code",
   "outputs": [],
   "source": [
    "nb_qbit = 4"
   ],
   "metadata": {
    "collapsed": false,
    "ExecuteTime": {
     "end_time": "2024-04-14T10:09:22.017998465Z",
     "start_time": "2024-04-14T10:09:22.015276500Z"
    }
   },
   "id": "7f8bb110cffca02c",
   "execution_count": 25
  },
  {
   "cell_type": "code",
   "outputs": [
    {
     "data": {
      "text/plain": "<Figure size 454.719x367.889 with 1 Axes>",
      "image/png": "[encoded data removed]"
     },
     "execution_count": 26,
     "metadata": {},
     "output_type": "execute_result"
    }
   ],
   "source": [
    "oracle1 = balanced(nb_qbit)\n",
    "oracle1.to_gate()\n",
    "oracle1.draw('mpl')"
   ],
   "metadata": {
    "collapsed": false,
    "ExecuteTime": {
     "end_time": "2024-04-14T10:09:22.115473213Z",
     "start_time": "2024-04-14T10:09:22.015365341Z"
    }
   },
   "id": "f6fe9595ef8904ad",
   "execution_count": 26
  },
  {
   "cell_type": "code",
   "outputs": [
    {
     "data": {
      "text/plain": "<Figure size 162.08x367.889 with 1 Axes>",
      "image/png": "[encoded data removed]"
     },
     "execution_count": 27,
     "metadata": {},
     "output_type": "execute_result"
    }
   ],
   "source": [
    "oracle2 = constant(nb_qbit)\n",
    "oracle2.to_gate()\n",
    "oracle2.draw('mpl')"
   ],
   "metadata": {
    "collapsed": false,
    "ExecuteTime": {
     "end_time": "2024-04-14T10:09:22.222906590Z",
     "start_time": "2024-04-14T10:09:22.117185496Z"
    }
   },
   "id": "fa423972ed374a3c",
   "execution_count": 27
  },
  {
   "cell_type": "markdown",
   "source": [
    "Set up the main circuit with three principal parts\n",
    "- the initialisation\n",
    "- the oracle application\n",
    "- the observation"
   ],
   "metadata": {
    "collapsed": false
   },
   "id": "b35c2b9f48d86bd4"
  },
  {
   "cell_type": "code",
   "outputs": [
    {
     "data": {
      "text/plain": "<Figure size 956.385x451.5 with 1 Axes>",
      "image/png": "[encoded data removed]"
     },
     "execution_count": 28,
     "metadata": {},
     "output_type": "execute_result"
    }
   ],
   "source": [
    "## initiate qubit\n",
    "qc = QuantumCircuit(nb_qbit, nb_qbit)\n",
    "qc.x(nb_qbit - 1)\n",
    "for i in range(0, nb_qbit):\n",
    "    qc.h(i)    \n",
    "qc.barrier()\n",
    "\n",
    "## apply oracle\n",
    "qc.append(oracle1, range(nb_qbit))\n",
    "qc.barrier()\n",
    "\n",
    "## undo Hadamard gate\n",
    "for i in range(0, nb_qbit - 1):\n",
    "    qc.h(i)\n",
    "    \n",
    "## observe qubits values\n",
    "for i in range(nb_qbit - 1):\n",
    "    qc.measure(i, i)\n",
    "\n",
    "\n",
    "qc.draw('mpl')"
   ],
   "metadata": {
    "collapsed": false,
    "ExecuteTime": {
     "end_time": "2024-04-14T10:09:22.347798860Z",
     "start_time": "2024-04-14T10:09:22.180192677Z"
    }
   },
   "id": "b058843714474dad",
   "execution_count": 28
  },
  {
   "cell_type": "code",
   "outputs": [],
   "source": [
    "quantum_computer = select_backend(key, backend='LOCAL')\n",
    "\n",
    "op_circuit = optimize_circuit(qc, quantum_computer, op_level=3)\n",
    "\n",
    "result = quantum_computer.run(op_circuit, shots=500).result()\n",
    "data = result.get_counts(op_circuit)"
   ],
   "metadata": {
    "collapsed": false,
    "ExecuteTime": {
     "end_time": "2024-04-14T10:34:00.942847164Z",
     "start_time": "2024-04-14T10:34:00.902544585Z"
    }
   },
   "id": "718f8b23545d8144",
   "execution_count": 35
  },
  {
   "cell_type": "code",
   "outputs": [
    {
     "data": {
      "text/plain": "<Figure size 700x500 with 1 Axes>",
      "image/png": "[encoded data removed]"
     },
     "execution_count": 36,
     "metadata": {},
     "output_type": "execute_result"
    }
   ],
   "source": [
    "plot_histogram([data])"
   ],
   "metadata": {
    "collapsed": false,
    "ExecuteTime": {
     "end_time": "2024-04-14T10:34:05.630660725Z",
     "start_time": "2024-04-14T10:34:05.580199Z"
    }
   },
   "id": "9a65cc32660c8332",
   "execution_count": 36
  },
  {
   "cell_type": "code",
   "outputs": [],
   "source": [],
   "metadata": {
    "collapsed": false
   },
   "id": "df070e75ff484dba"
  }
 ],
 "metadata": {
  "kernelspec": {
   "display_name": "Python 3",
   "language": "python",
   "name": "python3"
  },
  "language_info": {
   "codemirror_mode": {
    "name": "ipython",
    "version": 2
   },
   "file_extension": ".py",
   "mimetype": "text/x-python",
   "name": "python",
   "nbconvert_exporter": "python",
   "pygments_lexer": "ipython2",
   "version": "2.7.6"
  }
 },
 "nbformat": 4,
 "nbformat_minor": 5
}
