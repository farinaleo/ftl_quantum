{
 "cells": [
  {
   "cell_type": "code",
   "outputs": [],
   "source": [
    "#Setup\n",
    "from qiskit import QuantumCircuit\n",
    "from dotenv import load_dotenv\n",
    "import os\n",
    "from qiskit_aer import AerSimulator\n",
    "from qiskit_ibm_provider import IBMProvider\n",
    "from qiskit.transpiler.preset_passmanagers import generate_preset_pass_manager\n",
    "from qiskit_ibm_runtime import QiskitRuntimeService\n",
    "from qiskit.visualization import plot_histogram\n",
    "import numpy as np\n",
    "\n",
    "load_dotenv()\n",
    "key = os.getenv(\"IMBQ_KEY\")\n",
    "provider = IBMProvider()"
   ],
   "metadata": {
    "collapsed": false,
    "ExecuteTime": {
     "end_time": "2024-04-14T14:22:24.842237852Z",
     "start_time": "2024-04-14T14:22:19.830658256Z"
    }
   },
   "id": "f8f1aa00e34a7cd6",
   "execution_count": 1
  },
  {
   "cell_type": "markdown",
   "source": [
    "Exercise 6 -> Create our first search quantum algorithm"
   ],
   "metadata": {
    "collapsed": false
   },
   "id": "91e98cc5ad8c010"
  },
  {
   "cell_type": "code",
   "outputs": [],
   "source": [
    "def select_backend(token, backend='REAL'):\n",
    "    backend_computer = None\n",
    "    if backend == 'REAL':\n",
    "        service = QiskitRuntimeService(channel=\"ibm_quantum\", token=token)\n",
    "        backend_computer = service.least_busy(simulator=False, operational=True)\n",
    "    elif backend == 'SIMULATED':\n",
    "        service = QiskitRuntimeService(channel=\"ibm_quantum\", token=token)\n",
    "        backend_computer = service.least_busy(simulator=True, operational=True)\n",
    "    elif backend == 'LOCAL':\n",
    "        backend_computer = AerSimulator()\n",
    "    return backend_computer"
   ],
   "metadata": {
    "collapsed": false,
    "ExecuteTime": {
     "end_time": "2024-04-14T14:22:24.863138937Z",
     "start_time": "2024-04-14T14:22:24.861208483Z"
    }
   },
   "id": "f09c2db41f90ff8a",
   "execution_count": 2
  },
  {
   "cell_type": "code",
   "outputs": [],
   "source": [
    "def optimize_circuit(qc, backend, op_level=0):\n",
    "    pm = generate_preset_pass_manager(backend=backend, optimization_level=op_level)\n",
    "    return pm.run(qc)"
   ],
   "metadata": {
    "collapsed": false,
    "ExecuteTime": {
     "end_time": "2024-04-14T14:22:24.869574983Z",
     "start_time": "2024-04-14T14:22:24.864245749Z"
    }
   },
   "id": "4b7fb8d1cec1d321",
   "execution_count": 3
  },
  {
   "cell_type": "code",
   "outputs": [],
   "source": [
    "def oracle_3():\n",
    "    qc = QuantumCircuit(3, name='Oracle miracle')\n",
    "    qc.h(2)\n",
    "    qc.ccx(0, 1, 2)\n",
    "    qc.h(2)\n",
    "    return qc"
   ],
   "metadata": {
    "collapsed": false,
    "ExecuteTime": {
     "end_time": "2024-04-14T14:24:24.742027570Z",
     "start_time": "2024-04-14T14:24:24.739035754Z"
    }
   },
   "id": "9ad8b3ea2f8f9058",
   "execution_count": 13
  },
  {
   "cell_type": "code",
   "outputs": [],
   "source": [
    "def searching_algorithm(oracle, nb_qubits=3):\n",
    "    print(oracle.name)\n",
    "    if nb_qubits < 2:\n",
    "        raise ValueError(\"Number of qubits must be greater or equal to 2\")"
   ],
   "metadata": {
    "collapsed": false,
    "ExecuteTime": {
     "end_time": "2024-04-14T14:24:11.929347153Z",
     "start_time": "2024-04-14T14:24:11.926690542Z"
    }
   },
   "id": "e66a901acf0b8ecd",
   "execution_count": 10
  },
  {
   "cell_type": "code",
   "outputs": [
    {
     "name": "stdout",
     "output_type": "stream",
     "text": [
      "Oracle miracle\n"
     ]
    }
   ],
   "source": [
    "searching_algorithm(oracle=oracle_3())"
   ],
   "metadata": {
    "collapsed": false,
    "ExecuteTime": {
     "end_time": "2024-04-14T14:24:26.433676789Z",
     "start_time": "2024-04-14T14:24:26.431670498Z"
    }
   },
   "id": "957c5ffc48f63ca0",
   "execution_count": 14
  }
 ],
 "metadata": {
  "kernelspec": {
   "display_name": "Python 3",
   "language": "python",
   "name": "python3"
  },
  "language_info": {
   "codemirror_mode": {
    "name": "ipython",
    "version": 2
   },
   "file_extension": ".py",
   "mimetype": "text/x-python",
   "name": "python",
   "nbconvert_exporter": "python",
   "pygments_lexer": "ipython2",
   "version": "2.7.6"
  }
 },
 "nbformat": 4,
 "nbformat_minor": 5
}
