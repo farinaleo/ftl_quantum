{
 "cells": [
  {
   "cell_type": "code",
   "outputs": [],
   "source": [
    "#Setup\n",
    "from qiskit import QuantumCircuit\n",
    "from dotenv import load_dotenv\n",
    "import os\n",
    "from qiskit_aer import AerSimulator\n",
    "from qiskit_ibm_provider import IBMProvider\n",
    "from qiskit.transpiler.preset_passmanagers import generate_preset_pass_manager\n",
    "from qiskit_ibm_runtime import QiskitRuntimeService\n",
    "from qiskit.visualization import plot_histogram\n",
    "import numpy as np\n",
    "\n",
    "load_dotenv()\n",
    "key = os.getenv(\"IMBQ_KEY\")\n",
    "provider = IBMProvider()"
   ],
   "metadata": {
    "collapsed": false
   },
   "id": "f8f1aa00e34a7cd6"
  },
  {
   "cell_type": "markdown",
   "source": [
    "Exercise 6 -> Create our first search quantum algorithm"
   ],
   "metadata": {
    "collapsed": false
   },
   "id": "91e98cc5ad8c010"
  },
  {
   "cell_type": "code",
   "outputs": [],
   "source": [],
   "metadata": {
    "collapsed": false
   },
   "id": "f09c2db41f90ff8a"
  }
 ],
 "metadata": {
  "kernelspec": {
   "display_name": "Python 3",
   "language": "python",
   "name": "python3"
  },
  "language_info": {
   "codemirror_mode": {
    "name": "ipython",
    "version": 2
   },
   "file_extension": ".py",
   "mimetype": "text/x-python",
   "name": "python",
   "nbconvert_exporter": "python",
   "pygments_lexer": "ipython2",
   "version": "2.7.6"
  }
 },
 "nbformat": 4,
 "nbformat_minor": 5
}
